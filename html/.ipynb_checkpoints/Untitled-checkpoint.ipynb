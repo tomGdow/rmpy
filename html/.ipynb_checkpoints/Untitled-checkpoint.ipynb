{
 "cells": [
  {
   "cell_type": "code",
   "execution_count": 1,
   "metadata": {},
   "outputs": [
    {
     "data": {
      "text/html": [
       "<div><img alt=\"Output\" src=\"data:image/png;base64,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\"></div>"
      ],
      "text/plain": [
       "      2\n",
       "Mod[#1 , 3] & "
      ]
     },
     "execution_count": 1,
     "metadata": {
      "text/html": [],
      "text/plain": []
     },
     "output_type": "execute_result"
    }
   ],
   "source": [
    " FindSequenceFunction[{1,1,0,1,1,0,1,1,0}]"
   ]
  },
  {
   "cell_type": "code",
   "execution_count": 2,
   "metadata": {},
   "outputs": [
    {
     "data": {
      "text/html": [
       "<div><pre style=\"&#102;&#111;&#110;&#116;&#45;&#102;&#97;&#109;&#105;&#108;&#121;&#58;&#32;&#34;&#67;&#111;&#117;&#114;&#105;&#101;&#114;&#32;&#78;&#101;&#119;&#34;&#44;&#67;&#111;&#117;&#114;&#105;&#101;&#114;&#44;&#109;&#111;&#110;&#111;&#115;&#112;&#97;&#99;&#101;&#59;\">&#32;&#32;&#32;&#32;&#32;&#32;&#32;&#45;&#57;&#32;&#32;&#32;&#32;&#32;&#32;&#32;&#32;&#32;&#32;&#32;&#32;&#32;&#32;&#32;&#32;&#32;&#45;&#57;&#32;&#32;&#32;&#32;&#32;&#32;&#32;&#32;&#32;&#32;&#32;&#32;&#32;&#32;&#32;&#32;&#32;&#45;&#57;&#32;&#32;&#32;&#32;&#32;&#32;&#32;&#32;&#32;&#32;&#32;&#32;&#32;&#32;&#32;&#32;&#32;&#45;&#57;&#10;&#123;&#123;&#50;&#46;&#32;&#49;&#48;&#32;&#32;&#44;&#32;&#48;&#46;&#48;&#48;&#50;&#53;&#125;&#44;&#32;&#123;&#52;&#46;&#32;&#49;&#48;&#32;&#32;&#44;&#32;&#48;&#46;&#48;&#48;&#50;&#53;&#125;&#44;&#32;&#123;&#54;&#46;&#32;&#49;&#48;&#32;&#32;&#44;&#32;&#48;&#46;&#48;&#48;&#50;&#53;&#125;&#44;&#32;&#123;&#56;&#46;&#32;&#49;&#48;&#32;&#32;&#44;&#32;&#48;&#46;&#48;&#48;&#50;&#53;&#125;&#44;&#32;&#10;&#32;&#10;&#32;&#32;&#32;&#32;&#32;&#32;&#32;&#32;&#32;&#32;&#45;&#56;&#32;&#32;&#32;&#32;&#32;&#32;&#32;&#32;&#32;&#32;&#32;&#32;&#32;&#32;&#32;&#32;&#32;&#45;&#57;&#32;&#32;&#32;&#32;&#32;&#32;&#32;&#32;&#32;&#32;&#32;&#32;&#32;&#32;&#32;&#32;&#32;&#45;&#57;&#10;&#62;&#32;&#32;&#32;&#123;&#49;&#46;&#32;&#49;&#48;&#32;&#32;&#44;&#32;&#48;&#46;&#48;&#48;&#50;&#53;&#125;&#44;&#32;&#123;&#55;&#46;&#32;&#49;&#48;&#32;&#32;&#44;&#32;&#48;&#46;&#48;&#48;&#50;&#51;&#125;&#44;&#32;&#123;&#51;&#46;&#32;&#49;&#48;&#32;&#32;&#44;&#32;&#48;&#46;&#48;&#48;&#50;&#53;&#125;&#125;</pre></div>"
      ],
      "text/plain": [
       "       -9                 -9                 -9                 -9\n",
       "{{2. 10  , 0.0025}, {4. 10  , 0.0025}, {6. 10  , 0.0025}, {8. 10  , 0.0025}, \n",
       " \n",
       "          -8                 -9                 -9\n",
       ">   {1. 10  , 0.0025}, {7. 10  , 0.0023}, {3. 10  , 0.0025}}"
      ]
     },
     "execution_count": 2,
     "metadata": {
      "text/html": [],
      "text/plain": []
     },
     "output_type": "execute_result"
    }
   ],
   "source": [
    "data = {{2.*10^-9, 0.0025}, {4.*10^-9, 0.0025}, {6.*10^-9, 0.0025}, {8.*10^-9, 0.0025}, {1.*10^-8, 0.0025}, {7.*10^-9, 0.0023}, {3.*10^-9, 0.0025}}"
   ]
  },
  {
   "cell_type": "code",
   "execution_count": 13,
   "metadata": {},
   "outputs": [
    {
     "data": {
      "text/html": [
       "<div><pre style=\"&#102;&#111;&#110;&#116;&#45;&#102;&#97;&#109;&#105;&#108;&#121;&#58;&#32;&#34;&#67;&#111;&#117;&#114;&#105;&#101;&#114;&#32;&#78;&#101;&#119;&#34;&#44;&#67;&#111;&#117;&#114;&#105;&#101;&#114;&#44;&#109;&#111;&#110;&#111;&#115;&#112;&#97;&#99;&#101;&#59;\">&#32;&#32;&#32;&#32;&#32;&#32;&#32;&#45;&#57;&#32;&#32;&#32;&#32;&#32;&#32;&#32;&#32;&#32;&#32;&#32;&#32;&#32;&#32;&#32;&#32;&#32;&#45;&#57;&#32;&#32;&#32;&#32;&#32;&#32;&#32;&#32;&#32;&#32;&#32;&#32;&#32;&#32;&#32;&#32;&#32;&#45;&#57;&#32;&#32;&#32;&#32;&#32;&#32;&#32;&#32;&#32;&#32;&#32;&#32;&#32;&#32;&#32;&#32;&#32;&#45;&#56;&#10;&#123;&#123;&#50;&#46;&#32;&#49;&#48;&#32;&#32;&#44;&#32;&#48;&#46;&#48;&#48;&#50;&#53;&#125;&#44;&#32;&#123;&#52;&#46;&#32;&#49;&#48;&#32;&#32;&#44;&#32;&#48;&#46;&#48;&#48;&#50;&#53;&#125;&#44;&#32;&#123;&#56;&#46;&#32;&#49;&#48;&#32;&#32;&#44;&#32;&#48;&#46;&#48;&#48;&#50;&#53;&#125;&#44;&#32;&#123;&#49;&#46;&#32;&#49;&#48;&#32;&#32;&#44;&#32;&#48;&#46;&#48;&#48;&#50;&#53;&#125;&#44;&#32;&#10;&#32;&#10;&#32;&#32;&#32;&#32;&#32;&#32;&#32;&#32;&#32;&#32;&#45;&#57;&#10;&#62;&#32;&#32;&#32;&#123;&#51;&#46;&#32;&#49;&#48;&#32;&#32;&#44;&#32;&#48;&#46;&#48;&#48;&#50;&#53;&#125;&#125;</pre></div>"
      ],
      "text/plain": [
       "       -9                 -9                 -9                 -8\n",
       "{{2. 10  , 0.0025}, {4. 10  , 0.0025}, {8. 10  , 0.0025}, {1. 10  , 0.0025}, \n",
       " \n",
       "          -9\n",
       ">   {3. 10  , 0.0025}}"
      ]
     },
     "execution_count": 13,
     "metadata": {
      "text/html": [],
      "text/plain": []
     },
     "output_type": "execute_result"
    }
   ],
   "source": [
    "data//Pick[#,Mod[#^2,3]&@Range[Length@#],1]&"
   ]
  },
  {
   "cell_type": "code",
   "execution_count": 8,
   "metadata": {},
   "outputs": [
    {
     "data": {
      "text/html": [
       "<div><pre style=\"&#102;&#111;&#110;&#116;&#45;&#102;&#97;&#109;&#105;&#108;&#121;&#58;&#32;&#34;&#67;&#111;&#117;&#114;&#105;&#101;&#114;&#32;&#78;&#101;&#119;&#34;&#44;&#67;&#111;&#117;&#114;&#105;&#101;&#114;&#44;&#109;&#111;&#110;&#111;&#115;&#112;&#97;&#99;&#101;&#59;\">&#32;&#32;&#32;&#32;&#32;&#32;&#32;&#45;&#57;&#32;&#32;&#32;&#32;&#32;&#32;&#32;&#32;&#32;&#32;&#32;&#32;&#32;&#32;&#32;&#32;&#32;&#45;&#57;&#32;&#32;&#32;&#32;&#32;&#32;&#32;&#32;&#32;&#32;&#32;&#32;&#32;&#32;&#32;&#32;&#32;&#45;&#57;&#32;&#32;&#32;&#32;&#32;&#32;&#32;&#32;&#32;&#32;&#32;&#32;&#32;&#32;&#32;&#32;&#32;&#45;&#56;&#10;&#123;&#123;&#50;&#46;&#32;&#49;&#48;&#32;&#32;&#44;&#32;&#48;&#46;&#48;&#48;&#50;&#53;&#125;&#44;&#32;&#123;&#52;&#46;&#32;&#49;&#48;&#32;&#32;&#44;&#32;&#48;&#46;&#48;&#48;&#50;&#53;&#125;&#44;&#32;&#123;&#56;&#46;&#32;&#49;&#48;&#32;&#32;&#44;&#32;&#48;&#46;&#48;&#48;&#50;&#53;&#125;&#44;&#32;&#123;&#49;&#46;&#32;&#49;&#48;&#32;&#32;&#44;&#32;&#48;&#46;&#48;&#48;&#50;&#53;&#125;&#44;&#32;&#10;&#32;&#10;&#32;&#32;&#32;&#32;&#32;&#32;&#32;&#32;&#32;&#32;&#45;&#57;&#10;&#62;&#32;&#32;&#32;&#123;&#51;&#46;&#32;&#49;&#48;&#32;&#32;&#44;&#32;&#48;&#46;&#48;&#48;&#50;&#53;&#125;&#125;</pre></div>"
      ],
      "text/plain": [
       "       -9                 -9                 -9                 -8\n",
       "{{2. 10  , 0.0025}, {4. 10  , 0.0025}, {8. 10  , 0.0025}, {1. 10  , 0.0025}, \n",
       " \n",
       "          -9\n",
       ">   {3. 10  , 0.0025}}"
      ]
     },
     "execution_count": 8,
     "metadata": {
      "text/html": [],
      "text/plain": []
     },
     "output_type": "execute_result"
    }
   ],
   "source": [
    " newdata = {{2.*10^-9, 0.0025}, {4.*10^-9, 0.0025}, {8.*10^-9, 0.0025}, {1.*10^-8, 0.0025}, {3.*10^-9, 0.0025}}"
   ]
  },
  {
   "cell_type": "code",
   "execution_count": null,
   "metadata": {},
   "outputs": [],
   "source": []
  }
 ],
 "metadata": {
  "kernelspec": {
   "display_name": "Wolfram Language 12.1",
   "language": "Wolfram Language",
   "name": "wolframlanguage12.1"
  },
  "language_info": {
   "codemirror_mode": "mathematica",
   "file_extension": ".m",
   "mimetype": "application/vnd.wolfram.m",
   "name": "Wolfram Language",
   "pygments_lexer": "mathematica",
   "version": "12.0"
  }
 },
 "nbformat": 4,
 "nbformat_minor": 4
}
